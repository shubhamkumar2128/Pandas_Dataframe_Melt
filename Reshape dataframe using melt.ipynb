{
 "cells": [
  {
   "cell_type": "code",
   "execution_count": 140,
   "metadata": {},
   "outputs": [
    {
     "name": "stdout",
     "output_type": "stream",
     "text": [
      "         day  lucknow  delhi  kolkata\n",
      "0     Monday       65     65       56\n",
      "1    Tuesday       45     66       58\n",
      "2  Wednesday       21     68       60\n",
      "3   Thursday       45     75       80\n",
      "4     Friday       36     78       83\n",
      "5   Saturday       44     82       85\n",
      "6     Sunday       35     48       26\n",
      "7     Monday       41     77       30\n",
      "8    Tuesday       34     79       35\n"
     ]
    }
   ],
   "source": [
    "import pandas as pd\n",
    "df=pd.read_csv(\"C:\\\\csvdemo.csv\")\n",
    "print(df)"
   ]
  },
  {
   "cell_type": "code",
   "execution_count": 145,
   "metadata": {},
   "outputs": [
    {
     "name": "stdout",
     "output_type": "stream",
     "text": [
      "          day variable  value\n",
      "0      Monday  lucknow     65\n",
      "1     Tuesday  lucknow     45\n",
      "2   Wednesday  lucknow     21\n",
      "3    Thursday  lucknow     45\n",
      "4      Friday  lucknow     36\n",
      "5    Saturday  lucknow     44\n",
      "6      Sunday  lucknow     35\n",
      "7      Monday  lucknow     41\n",
      "8     Tuesday  lucknow     34\n",
      "9      Monday    delhi     65\n",
      "10    Tuesday    delhi     66\n",
      "11  Wednesday    delhi     68\n",
      "12   Thursday    delhi     75\n",
      "13     Friday    delhi     78\n",
      "14   Saturday    delhi     82\n",
      "15     Sunday    delhi     48\n",
      "16     Monday    delhi     77\n",
      "17    Tuesday    delhi     79\n",
      "18     Monday  kolkata     56\n",
      "19    Tuesday  kolkata     58\n",
      "20  Wednesday  kolkata     60\n",
      "21   Thursday  kolkata     80\n",
      "22     Friday  kolkata     83\n",
      "23   Saturday  kolkata     85\n",
      "24     Sunday  kolkata     26\n",
      "25     Monday  kolkata     30\n",
      "26    Tuesday  kolkata     35\n"
     ]
    }
   ],
   "source": [
    "df2=pd.melt(df,id_vars=[\"day\"])\n",
    "print(df2)"
   ]
  },
  {
   "cell_type": "code",
   "execution_count": 153,
   "metadata": {},
   "outputs": [
    {
     "name": "stdout",
     "output_type": "stream",
     "text": [
      "         day     city  value\n",
      "0     Monday  lucknow     65\n",
      "1    Tuesday  lucknow     45\n",
      "2  Wednesday  lucknow     21\n",
      "3   Thursday  lucknow     45\n",
      "4     Friday  lucknow     36\n",
      "5   Saturday  lucknow     44\n",
      "6     Sunday  lucknow     35\n",
      "7     Monday  lucknow     41\n",
      "8    Tuesday  lucknow     34\n"
     ]
    }
   ],
   "source": [
    "#Filter specific\n",
    "df2=pd.melt(df,id_vars=[\"day\"],var_name=\"city\")\n",
    "df2=df2[df2[\"city\"]==\"lucknow\"]\n",
    "print(df2)"
   ]
  },
  {
   "cell_type": "code",
   "execution_count": 149,
   "metadata": {},
   "outputs": [
    {
     "name": "stdout",
     "output_type": "stream",
     "text": [
      "          day     city  temperature\n",
      "0      Monday  lucknow           65\n",
      "1     Tuesday  lucknow           45\n",
      "2   Wednesday  lucknow           21\n",
      "3    Thursday  lucknow           45\n",
      "4      Friday  lucknow           36\n",
      "5    Saturday  lucknow           44\n",
      "6      Sunday  lucknow           35\n",
      "7      Monday  lucknow           41\n",
      "8     Tuesday  lucknow           34\n",
      "9      Monday    delhi           65\n",
      "10    Tuesday    delhi           66\n",
      "11  Wednesday    delhi           68\n",
      "12   Thursday    delhi           75\n",
      "13     Friday    delhi           78\n",
      "14   Saturday    delhi           82\n",
      "15     Sunday    delhi           48\n",
      "16     Monday    delhi           77\n",
      "17    Tuesday    delhi           79\n",
      "18     Monday  kolkata           56\n",
      "19    Tuesday  kolkata           58\n",
      "20  Wednesday  kolkata           60\n",
      "21   Thursday  kolkata           80\n",
      "22     Friday  kolkata           83\n",
      "23   Saturday  kolkata           85\n",
      "24     Sunday  kolkata           26\n",
      "25     Monday  kolkata           30\n",
      "26    Tuesday  kolkata           35\n"
     ]
    }
   ],
   "source": [
    "df2=pd.melt(df,id_vars=[\"day\"],var_name=\"city\",value_name=\"temperature\")\n",
    "print(df2)"
   ]
  },
  {
   "cell_type": "code",
   "execution_count": null,
   "metadata": {},
   "outputs": [],
   "source": []
  }
 ],
 "metadata": {
  "kernelspec": {
   "display_name": "Python 3",
   "language": "python",
   "name": "python3"
  },
  "language_info": {
   "codemirror_mode": {
    "name": "ipython",
    "version": 3
   },
   "file_extension": ".py",
   "mimetype": "text/x-python",
   "name": "python",
   "nbconvert_exporter": "python",
   "pygments_lexer": "ipython3",
   "version": "3.7.4"
  }
 },
 "nbformat": 4,
 "nbformat_minor": 2
}
